{
 "cells": [
  {
   "cell_type": "code",
   "execution_count": 22,
   "metadata": {},
   "outputs": [],
   "source": [
    "import numpy as np"
   ]
  },
  {
   "cell_type": "code",
   "execution_count": 80,
   "metadata": {},
   "outputs": [
    {
     "name": "stdout",
     "output_type": "stream",
     "text": [
      "Numerele din fisier sunt:  [[10. 15. 20. 30.]\n",
      " [20. 25. 50. 80.]\n",
      " [50. 54. 55. 70.]\n",
      " [30. 35. 60. 13.]\n",
      " [40. 45. 70. 30.]\n",
      " [60. 66. 12. 17.]]\n"
     ]
    }
   ],
   "source": [
    "numere = np.loadtxt('numbers.txt', delimiter=',') \n",
    "print('Numerele din fisier sunt: ',numere)"
   ]
  },
  {
   "cell_type": "code",
   "execution_count": 79,
   "metadata": {},
   "outputs": [
    {
     "name": "stdout",
     "output_type": "stream",
     "text": [
      "Sumele corespunzatoare liniilor sunt:  [75.0, 175.0, 229.0, 138.0, 185.0, 155.0]\n"
     ]
    }
   ],
   "source": [
    "sumele=[line.sum() for line in numere] #ex1\n",
    "print('Sumele corespunzatoare liniilor sunt: ',sumele)"
   ]
  },
  {
   "cell_type": "code",
   "execution_count": 78,
   "metadata": {},
   "outputs": [
    {
     "name": "stdout",
     "output_type": "stream",
     "text": [
      "Suma tuturor numerelor din lista este:  957.0\n"
     ]
    }
   ],
   "source": [
    "from functools import reduce #ex2\n",
    "TotalSum= reduce(lambda x,y: x+y, sumele)\n",
    "print('Suma tuturor numerelor din lista este: ', TotalSum)"
   ]
  },
  {
   "cell_type": "code",
   "execution_count": 76,
   "metadata": {},
   "outputs": [
    {
     "name": "stdout",
     "output_type": "stream",
     "text": [
      "Lista concatenata are forma:  [array([10., 15., 20., 30., 20., 25., 50., 80., 50., 54., 55., 70., 30.,\n",
      "       35., 60., 13., 40., 45., 70., 30., 60., 66., 12., 17.])]\n"
     ]
    }
   ],
   "source": [
    "concat=[] #ex3\n",
    "for line in numere:\n",
    "    concat=[np.append(concat,line)]\n",
    "print('Lista concatenata are forma: ',concat)"
   ]
  },
  {
   "cell_type": "code",
   "execution_count": 82,
   "metadata": {},
   "outputs": [
    {
     "name": "stdout",
     "output_type": "stream",
     "text": [
      "Am gasit  13 numere in lista >=30.1!!!\n"
     ]
    }
   ],
   "source": [
    "k=0\n",
    "for line in numere: #ex4\n",
    "    for i in line:\n",
    "        if (i>=30.1):\n",
    "            k=k+1\n",
    "print('Am gasit ',k,'numere in lista >=30.1!!!')"
   ]
  },
  {
   "cell_type": "code",
   "execution_count": 83,
   "metadata": {},
   "outputs": [
    {
     "name": "stdout",
     "output_type": "stream",
     "text": [
      "Pentru pragul natural  1 avem 0 numere din lista mai mici decat el!\n",
      "Pentru pragul natural  2 avem 0 numere din lista mai mici decat el!\n",
      "Pentru pragul natural  3 avem 0 numere din lista mai mici decat el!\n",
      "Pentru pragul natural  4 avem 0 numere din lista mai mici decat el!\n",
      "Pentru pragul natural  5 avem 0 numere din lista mai mici decat el!\n",
      "Pentru pragul natural  6 avem 0 numere din lista mai mici decat el!\n",
      "Pentru pragul natural  7 avem 0 numere din lista mai mici decat el!\n",
      "Pentru pragul natural  8 avem 0 numere din lista mai mici decat el!\n",
      "Pentru pragul natural  9 avem 0 numere din lista mai mici decat el!\n",
      "Pentru pragul natural  10 avem 0 numere din lista mai mici decat el!\n",
      "Pentru pragul natural  11 avem 1 numere din lista mai mici decat el!\n",
      "Pentru pragul natural  12 avem 1 numere din lista mai mici decat el!\n",
      "Pentru pragul natural  13 avem 2 numere din lista mai mici decat el!\n",
      "Pentru pragul natural  14 avem 3 numere din lista mai mici decat el!\n",
      "Pentru pragul natural  15 avem 3 numere din lista mai mici decat el!\n",
      "Pentru pragul natural  16 avem 4 numere din lista mai mici decat el!\n",
      "Pentru pragul natural  17 avem 4 numere din lista mai mici decat el!\n",
      "Pentru pragul natural  18 avem 5 numere din lista mai mici decat el!\n",
      "Pentru pragul natural  19 avem 5 numere din lista mai mici decat el!\n",
      "Pentru pragul natural  20 avem 5 numere din lista mai mici decat el!\n",
      "Pentru pragul natural  21 avem 7 numere din lista mai mici decat el!\n",
      "Pentru pragul natural  22 avem 7 numere din lista mai mici decat el!\n",
      "Pentru pragul natural  23 avem 7 numere din lista mai mici decat el!\n",
      "Pentru pragul natural  24 avem 7 numere din lista mai mici decat el!\n",
      "Pentru pragul natural  25 avem 7 numere din lista mai mici decat el!\n",
      "Pentru pragul natural  26 avem 8 numere din lista mai mici decat el!\n",
      "Pentru pragul natural  27 avem 8 numere din lista mai mici decat el!\n",
      "Pentru pragul natural  28 avem 8 numere din lista mai mici decat el!\n",
      "Pentru pragul natural  29 avem 8 numere din lista mai mici decat el!\n",
      "Pentru pragul natural  30 avem 8 numere din lista mai mici decat el!\n",
      "Pentru pragul natural  31 avem 11 numere din lista mai mici decat el!\n",
      "Pentru pragul natural  32 avem 11 numere din lista mai mici decat el!\n",
      "Pentru pragul natural  33 avem 11 numere din lista mai mici decat el!\n",
      "Pentru pragul natural  34 avem 11 numere din lista mai mici decat el!\n",
      "Pentru pragul natural  35 avem 11 numere din lista mai mici decat el!\n",
      "Pentru pragul natural  36 avem 12 numere din lista mai mici decat el!\n",
      "Pentru pragul natural  37 avem 12 numere din lista mai mici decat el!\n",
      "Pentru pragul natural  38 avem 12 numere din lista mai mici decat el!\n",
      "Pentru pragul natural  39 avem 12 numere din lista mai mici decat el!\n",
      "Pentru pragul natural  40 avem 12 numere din lista mai mici decat el!\n",
      "Pentru pragul natural  41 avem 13 numere din lista mai mici decat el!\n",
      "Pentru pragul natural  42 avem 13 numere din lista mai mici decat el!\n",
      "Pentru pragul natural  43 avem 13 numere din lista mai mici decat el!\n",
      "Pentru pragul natural  44 avem 13 numere din lista mai mici decat el!\n",
      "Pentru pragul natural  45 avem 13 numere din lista mai mici decat el!\n",
      "Pentru pragul natural  46 avem 14 numere din lista mai mici decat el!\n",
      "Pentru pragul natural  47 avem 14 numere din lista mai mici decat el!\n",
      "Pentru pragul natural  48 avem 14 numere din lista mai mici decat el!\n",
      "Pentru pragul natural  49 avem 14 numere din lista mai mici decat el!\n",
      "Pentru pragul natural  50 avem 14 numere din lista mai mici decat el!\n",
      "Pentru pragul natural  51 avem 16 numere din lista mai mici decat el!\n",
      "Pentru pragul natural  52 avem 16 numere din lista mai mici decat el!\n",
      "Pentru pragul natural  53 avem 16 numere din lista mai mici decat el!\n",
      "Pentru pragul natural  54 avem 16 numere din lista mai mici decat el!\n",
      "Pentru pragul natural  55 avem 17 numere din lista mai mici decat el!\n",
      "Pentru pragul natural  56 avem 18 numere din lista mai mici decat el!\n",
      "Pentru pragul natural  57 avem 18 numere din lista mai mici decat el!\n",
      "Pentru pragul natural  58 avem 18 numere din lista mai mici decat el!\n",
      "Pentru pragul natural  59 avem 18 numere din lista mai mici decat el!\n",
      "Pentru pragul natural  60 avem 18 numere din lista mai mici decat el!\n",
      "Pentru pragul natural  61 avem 20 numere din lista mai mici decat el!\n",
      "Pentru pragul natural  62 avem 20 numere din lista mai mici decat el!\n",
      "Pentru pragul natural  63 avem 20 numere din lista mai mici decat el!\n",
      "Pentru pragul natural  64 avem 20 numere din lista mai mici decat el!\n",
      "Pentru pragul natural  65 avem 20 numere din lista mai mici decat el!\n",
      "Pentru pragul natural  66 avem 20 numere din lista mai mici decat el!\n",
      "Pentru pragul natural  67 avem 21 numere din lista mai mici decat el!\n",
      "Pentru pragul natural  68 avem 21 numere din lista mai mici decat el!\n",
      "Pentru pragul natural  69 avem 21 numere din lista mai mici decat el!\n",
      "Pentru pragul natural  70 avem 21 numere din lista mai mici decat el!\n",
      "Pentru pragul natural  71 avem 23 numere din lista mai mici decat el!\n",
      "Pentru pragul natural  72 avem 23 numere din lista mai mici decat el!\n",
      "Pentru pragul natural  73 avem 23 numere din lista mai mici decat el!\n",
      "Pentru pragul natural  74 avem 23 numere din lista mai mici decat el!\n",
      "Pentru pragul natural  75 avem 23 numere din lista mai mici decat el!\n",
      "Pentru pragul natural  76 avem 23 numere din lista mai mici decat el!\n",
      "Pentru pragul natural  77 avem 23 numere din lista mai mici decat el!\n",
      "Pentru pragul natural  78 avem 23 numere din lista mai mici decat el!\n",
      "Pentru pragul natural  79 avem 23 numere din lista mai mici decat el!\n",
      "Pentru pragul natural  80 avem 23 numere din lista mai mici decat el!\n",
      "Pentru pragul natural  81 avem 24 numere din lista mai mici decat el!\n",
      "Pentru pragul natural  82 avem 24 numere din lista mai mici decat el!\n",
      "Pentru pragul natural  83 avem 24 numere din lista mai mici decat el!\n",
      "Pentru pragul natural  84 avem 24 numere din lista mai mici decat el!\n",
      "Pentru pragul natural  85 avem 24 numere din lista mai mici decat el!\n",
      "Pentru pragul natural  86 avem 24 numere din lista mai mici decat el!\n",
      "Pentru pragul natural  87 avem 24 numere din lista mai mici decat el!\n",
      "Pentru pragul natural  88 avem 24 numere din lista mai mici decat el!\n",
      "Pentru pragul natural  89 avem 24 numere din lista mai mici decat el!\n",
      "Pentru pragul natural  90 avem 24 numere din lista mai mici decat el!\n",
      "Pentru pragul natural  91 avem 24 numere din lista mai mici decat el!\n",
      "Pentru pragul natural  92 avem 24 numere din lista mai mici decat el!\n",
      "Pentru pragul natural  93 avem 24 numere din lista mai mici decat el!\n",
      "Pentru pragul natural  94 avem 24 numere din lista mai mici decat el!\n",
      "Pentru pragul natural  95 avem 24 numere din lista mai mici decat el!\n",
      "Pentru pragul natural  96 avem 24 numere din lista mai mici decat el!\n",
      "Pentru pragul natural  97 avem 24 numere din lista mai mici decat el!\n",
      "Pentru pragul natural  98 avem 24 numere din lista mai mici decat el!\n",
      "Pentru pragul natural  99 avem 24 numere din lista mai mici decat el!\n",
      "Pentru pragul natural  100 avem 24 numere din lista mai mici decat el!\n"
     ]
    }
   ],
   "source": [
    "for s in range(1, 100+1):\n",
    "    for j in range(1,len(concat)+1): #ex5\n",
    "        lista=concat[j-1]<s\n",
    "        print('Pentru pragul natural ',s,'avem', np.count_nonzero(lista),'numere din lista mai mici decat el!')"
   ]
  },
  {
   "cell_type": "code",
   "execution_count": null,
   "metadata": {},
   "outputs": [],
   "source": []
  }
 ],
 "metadata": {
  "kernelspec": {
   "display_name": "Python 3",
   "language": "python",
   "name": "python3"
  },
  "language_info": {
   "codemirror_mode": {
    "name": "ipython",
    "version": 3
   },
   "file_extension": ".py",
   "mimetype": "text/x-python",
   "name": "python",
   "nbconvert_exporter": "python",
   "pygments_lexer": "ipython3",
   "version": "3.7.4"
  }
 },
 "nbformat": 4,
 "nbformat_minor": 2
}
